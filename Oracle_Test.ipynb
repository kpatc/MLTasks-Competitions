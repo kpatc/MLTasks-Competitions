{
 "cells": [
  {
   "cell_type": "markdown",
   "id": "77ccbb8f",
   "metadata": {},
   "source": [
    "# Importation des packages et du dataset"
   ]
  },
  {
   "cell_type": "code",
   "execution_count": 1,
   "id": "b4aff64c",
   "metadata": {},
   "outputs": [
    {
     "name": "stderr",
     "output_type": "stream",
     "text": [
      "/usr/lib/python3/dist-packages/scipy/__init__.py:146: UserWarning: A NumPy version >=1.17.3 and <1.25.0 is required for this version of SciPy (detected version 1.26.4\n",
      "  warnings.warn(f\"A NumPy version >={np_minversion} and <{np_maxversion}\"\n"
     ]
    },
    {
     "data": {
      "text/html": [
       "<div>\n",
       "<style scoped>\n",
       "    .dataframe tbody tr th:only-of-type {\n",
       "        vertical-align: middle;\n",
       "    }\n",
       "\n",
       "    .dataframe tbody tr th {\n",
       "        vertical-align: top;\n",
       "    }\n",
       "\n",
       "    .dataframe thead th {\n",
       "        text-align: right;\n",
       "    }\n",
       "</style>\n",
       "<table border=\"1\" class=\"dataframe\">\n",
       "  <thead>\n",
       "    <tr style=\"text-align: right;\">\n",
       "      <th></th>\n",
       "      <th>TweetId</th>\n",
       "      <th>Label</th>\n",
       "      <th>TweetText</th>\n",
       "    </tr>\n",
       "  </thead>\n",
       "  <tbody>\n",
       "    <tr>\n",
       "      <th>0</th>\n",
       "      <td>304271250237304833</td>\n",
       "      <td>Politics</td>\n",
       "      <td>'#SecKerry: The value of the @StateDept and @U...</td>\n",
       "    </tr>\n",
       "    <tr>\n",
       "      <th>1</th>\n",
       "      <td>304834304222064640</td>\n",
       "      <td>Politics</td>\n",
       "      <td>'@rraina1481 I fear so'</td>\n",
       "    </tr>\n",
       "    <tr>\n",
       "      <th>2</th>\n",
       "      <td>303568995880144898</td>\n",
       "      <td>Sports</td>\n",
       "      <td>'Watch video highlights of the #wwc13 final be...</td>\n",
       "    </tr>\n",
       "    <tr>\n",
       "      <th>3</th>\n",
       "      <td>304366580664528896</td>\n",
       "      <td>Sports</td>\n",
       "      <td>'RT @chelscanlan: At Nitro Circus at #AlbertPa...</td>\n",
       "    </tr>\n",
       "    <tr>\n",
       "      <th>4</th>\n",
       "      <td>296770931098009601</td>\n",
       "      <td>Sports</td>\n",
       "      <td>'@cricketfox Always a good thing. Thanks for t...</td>\n",
       "    </tr>\n",
       "  </tbody>\n",
       "</table>\n",
       "</div>"
      ],
      "text/plain": [
       "              TweetId     Label  \\\n",
       "0  304271250237304833  Politics   \n",
       "1  304834304222064640  Politics   \n",
       "2  303568995880144898    Sports   \n",
       "3  304366580664528896    Sports   \n",
       "4  296770931098009601    Sports   \n",
       "\n",
       "                                           TweetText  \n",
       "0  '#SecKerry: The value of the @StateDept and @U...  \n",
       "1                            '@rraina1481 I fear so'  \n",
       "2  'Watch video highlights of the #wwc13 final be...  \n",
       "3  'RT @chelscanlan: At Nitro Circus at #AlbertPa...  \n",
       "4  '@cricketfox Always a good thing. Thanks for t...  "
      ]
     },
     "execution_count": 1,
     "metadata": {},
     "output_type": "execute_result"
    }
   ],
   "source": [
    "import numpy as np\n",
    "import pandas as pd\n",
    "import matplotlib.pyplot as plt\n",
    "import seaborn as sns\n",
    "import nltk \n",
    "import re # Plus précisement on va utiliser la fonction sub pour remplacer certaines occurences d'un pattern par une \n",
    "# par une chaine dans une chaine de caractère\n",
    "from nltk.corpus import stopwords # pour supprimer les stopwords\n",
    "from sklearn.feature_extraction.text import TfidfVectorizer, CountVectorizer\n",
    "from sklearn.model_selection import train_test_split\n",
    "from sklearn.svm import SVC  # Algorithme utilisé\n",
    "from sklearn.metrics import accuracy_score, classification_report # pour évaluer le modèle\n",
    "import time # pour la mesure de performance du modèle en terme de temps\n",
    "\n",
    "train_df=pd.read_csv(\"train.csv\")\n",
    "test_df=pd.read_csv(\"test.csv\")\n",
    "train_df.head()\n",
    "#test_df.head()\n"
   ]
  },
  {
   "cell_type": "code",
   "execution_count": null,
   "id": "77e3363a",
   "metadata": {},
   "outputs": [],
   "source": []
  },
  {
   "cell_type": "code",
   "execution_count": null,
   "id": "f417c33c",
   "metadata": {},
   "outputs": [],
   "source": []
  },
  {
   "cell_type": "markdown",
   "id": "f20ac04d",
   "metadata": {},
   "source": [
    "# Analyse statistique du dataset"
   ]
  },
  {
   "cell_type": "code",
   "execution_count": 2,
   "id": "4529ec2a",
   "metadata": {},
   "outputs": [
    {
     "data": {
      "text/plain": [
       "(6525, 3)"
      ]
     },
     "execution_count": 2,
     "metadata": {},
     "output_type": "execute_result"
    }
   ],
   "source": [
    "# la dimension du dataset \n",
    "train_df.shape"
   ]
  },
  {
   "cell_type": "code",
   "execution_count": 3,
   "id": "6591e59f",
   "metadata": {},
   "outputs": [
    {
     "data": {
      "text/html": [
       "<div>\n",
       "<style scoped>\n",
       "    .dataframe tbody tr th:only-of-type {\n",
       "        vertical-align: middle;\n",
       "    }\n",
       "\n",
       "    .dataframe tbody tr th {\n",
       "        vertical-align: top;\n",
       "    }\n",
       "\n",
       "    .dataframe thead th {\n",
       "        text-align: right;\n",
       "    }\n",
       "</style>\n",
       "<table border=\"1\" class=\"dataframe\">\n",
       "  <thead>\n",
       "    <tr style=\"text-align: right;\">\n",
       "      <th></th>\n",
       "      <th>TweetId</th>\n",
       "    </tr>\n",
       "  </thead>\n",
       "  <tbody>\n",
       "    <tr>\n",
       "      <th>count</th>\n",
       "      <td>6.525000e+03</td>\n",
       "    </tr>\n",
       "    <tr>\n",
       "      <th>mean</th>\n",
       "      <td>2.887131e+17</td>\n",
       "    </tr>\n",
       "    <tr>\n",
       "      <th>std</th>\n",
       "      <td>5.139819e+16</td>\n",
       "    </tr>\n",
       "    <tr>\n",
       "      <th>min</th>\n",
       "      <td>2.390931e+10</td>\n",
       "    </tr>\n",
       "    <tr>\n",
       "      <th>25%</th>\n",
       "      <td>2.941380e+17</td>\n",
       "    </tr>\n",
       "    <tr>\n",
       "      <th>50%</th>\n",
       "      <td>3.025319e+17</td>\n",
       "    </tr>\n",
       "    <tr>\n",
       "      <th>75%</th>\n",
       "      <td>3.053242e+17</td>\n",
       "    </tr>\n",
       "    <tr>\n",
       "      <th>max</th>\n",
       "      <td>3.068341e+17</td>\n",
       "    </tr>\n",
       "  </tbody>\n",
       "</table>\n",
       "</div>"
      ],
      "text/plain": [
       "            TweetId\n",
       "count  6.525000e+03\n",
       "mean   2.887131e+17\n",
       "std    5.139819e+16\n",
       "min    2.390931e+10\n",
       "25%    2.941380e+17\n",
       "50%    3.025319e+17\n",
       "75%    3.053242e+17\n",
       "max    3.068341e+17"
      ]
     },
     "execution_count": 3,
     "metadata": {},
     "output_type": "execute_result"
    }
   ],
   "source": [
    "# On va voir maintenant à quoi ressemble l'individu moyen de notre dataset\n",
    "train_df.describe()"
   ]
  },
  {
   "cell_type": "code",
   "execution_count": 4,
   "id": "b38c7c23",
   "metadata": {},
   "outputs": [
    {
     "data": {
      "text/html": [
       "<div>\n",
       "<style scoped>\n",
       "    .dataframe tbody tr th:only-of-type {\n",
       "        vertical-align: middle;\n",
       "    }\n",
       "\n",
       "    .dataframe tbody tr th {\n",
       "        vertical-align: top;\n",
       "    }\n",
       "\n",
       "    .dataframe thead th {\n",
       "        text-align: right;\n",
       "    }\n",
       "</style>\n",
       "<table border=\"1\" class=\"dataframe\">\n",
       "  <thead>\n",
       "    <tr style=\"text-align: right;\">\n",
       "      <th></th>\n",
       "      <th>Label</th>\n",
       "      <th>TweetText</th>\n",
       "    </tr>\n",
       "  </thead>\n",
       "  <tbody>\n",
       "    <tr>\n",
       "      <th>count</th>\n",
       "      <td>6525</td>\n",
       "      <td>6525</td>\n",
       "    </tr>\n",
       "    <tr>\n",
       "      <th>unique</th>\n",
       "      <td>2</td>\n",
       "      <td>6508</td>\n",
       "    </tr>\n",
       "    <tr>\n",
       "      <th>top</th>\n",
       "      <td>Sports</td>\n",
       "      <td>'Coaches: Check out the latest content from th...</td>\n",
       "    </tr>\n",
       "    <tr>\n",
       "      <th>freq</th>\n",
       "      <td>3325</td>\n",
       "      <td>3</td>\n",
       "    </tr>\n",
       "  </tbody>\n",
       "</table>\n",
       "</div>"
      ],
      "text/plain": [
       "         Label                                          TweetText\n",
       "count     6525                                               6525\n",
       "unique       2                                               6508\n",
       "top     Sports  'Coaches: Check out the latest content from th...\n",
       "freq      3325                                                  3"
      ]
     },
     "execution_count": 4,
     "metadata": {},
     "output_type": "execute_result"
    }
   ],
   "source": [
    "train_df.describe(include=object)"
   ]
  },
  {
   "cell_type": "code",
   "execution_count": 5,
   "id": "b6173e29",
   "metadata": {},
   "outputs": [
    {
     "name": "stdout",
     "output_type": "stream",
     "text": [
      "<class 'pandas.core.frame.DataFrame'>\n",
      "RangeIndex: 6525 entries, 0 to 6524\n",
      "Data columns (total 3 columns):\n",
      " #   Column     Non-Null Count  Dtype \n",
      "---  ------     --------------  ----- \n",
      " 0   TweetId    6525 non-null   int64 \n",
      " 1   Label      6525 non-null   object\n",
      " 2   TweetText  6525 non-null   object\n",
      "dtypes: int64(1), object(2)\n",
      "memory usage: 153.1+ KB\n"
     ]
    }
   ],
   "source": [
    "train_df.info()"
   ]
  },
  {
   "cell_type": "markdown",
   "id": "4393d4e6",
   "metadata": {},
   "source": [
    "## Recherche des valeurs manquantes"
   ]
  },
  {
   "cell_type": "code",
   "execution_count": 6,
   "id": "eda27dad",
   "metadata": {},
   "outputs": [
    {
     "data": {
      "text/plain": [
       "TweetId      0\n",
       "Label        0\n",
       "TweetText    0\n",
       "dtype: int64"
      ]
     },
     "execution_count": 6,
     "metadata": {},
     "output_type": "execute_result"
    }
   ],
   "source": [
    "train_df.isnull().sum()"
   ]
  },
  {
   "cell_type": "markdown",
   "id": "21a5e78d",
   "metadata": {},
   "source": [
    "## Representation graphique de chaque catégorie de tweets\n"
   ]
  },
  {
   "cell_type": "code",
   "execution_count": 7,
   "id": "d4d34b0a",
   "metadata": {},
   "outputs": [
    {
     "name": "stderr",
     "output_type": "stream",
     "text": [
      "/tmp/ipykernel_6850/4123061381.py:1: FutureWarning: \n",
      "\n",
      "Passing `palette` without assigning `hue` is deprecated and will be removed in v0.14.0. Assign the `x` variable to `hue` and set `legend=False` for the same effect.\n",
      "\n",
      "  sns.countplot(data=train_df,x=\"Label\",palette=\"bright\")\n"
     ]
    },
    {
     "data": {
      "text/plain": [
       "<AxesSubplot:xlabel='Label', ylabel='count'>"
      ]
     },
     "execution_count": 7,
     "metadata": {},
     "output_type": "execute_result"
    },
    {
     "data": {
      "image/png": "[encoded data removed]",
      "text/plain": [
       "<Figure size 432x288 with 1 Axes>"
      ]
     },
     "metadata": {
      "needs_background": "light"
     },
     "output_type": "display_data"
    }
   ],
   "source": [
    "sns.countplot(data=train_df,x=\"Label\",palette=\"bright\")"
   ]
  },
  {
   "cell_type": "markdown",
   "id": "af55b718",
   "metadata": {},
   "source": [
    "# Prétraitement des tweets (Natural Processing Language)"
   ]
  },
  {
   "cell_type": "code",
   "execution_count": 8,
   "id": "dec1a35a",
   "metadata": {},
   "outputs": [
    {
     "data": {
      "text/plain": [
       "0    '#SecKerry: The value of the @StateDept and @U...\n",
       "1                              '@rraina1481 I fear so'\n",
       "2    'Watch video highlights of the #wwc13 final be...\n",
       "3    'RT @chelscanlan: At Nitro Circus at #AlbertPa...\n",
       "4    '@cricketfox Always a good thing. Thanks for t...\n",
       "5    'Dr. Rajan: Fiscal consolidation will create m...\n",
       "6    FACT: More than 800,000 defense employees will...\n",
       "7    '1st Test. Over 39: 0 runs, 1 wkt (M Wade 0, M...\n",
       "8    Some of Africa's top teams will try and take a...\n",
       "9    'Can you beat the tweet of @RoryGribbell and z...\n",
       "Name: TweetText, dtype: object"
      ]
     },
     "execution_count": 8,
     "metadata": {},
     "output_type": "execute_result"
    }
   ],
   "source": [
    "train_df.TweetText[:10]"
   ]
  },
  {
   "cell_type": "markdown",
   "id": "768d1c21",
   "metadata": {},
   "source": []
  },
  {
   "cell_type": "code",
   "execution_count": null,
   "id": "6e99c41e",
   "metadata": {},
   "outputs": [],
   "source": []
  },
  {
   "cell_type": "code",
   "execution_count": null,
   "id": "3f367d48",
   "metadata": {},
   "outputs": [],
   "source": []
  },
  {
   "cell_type": "markdown",
   "id": "ad35e0d0",
   "metadata": {},
   "source": [
    "## Supprimer les urls, les mentions(@...), les hastags(#...)\n",
    "## Convertissons tous les tweests en minuscules pour une meilleur qualité des donnés et aussi la cohérence"
   ]
  },
  {
   "cell_type": "code",
   "execution_count": 9,
   "id": "9287127a",
   "metadata": {},
   "outputs": [],
   "source": [
    "#fonction pemettant de supprimer tous ces éléments cités ci-dessus\n",
    "\n",
    "def clean_process(tweet):\n",
    "    # Supprimer les mentions d'utilisateurs\n",
    "    tweet = re.sub(r'@[A-Za-z0-9_]+', '', tweet)\n",
    "    \n",
    "    # Supprimer les URLs\n",
    "    tweet = re.sub(r'https?://[A-Za-z0-9./]+', '', tweet)\n",
    "    \n",
    "    # Supprimer la ponctuation (sauf les apostrophes utilisées dans les mots)\n",
    "    tweet = re.sub(r'[^\\w\\s\\']', '', tweet)\n",
    "    tweet=tweet.lower()#c'est une méthode inplace donc on doit affecter tweet la nouvelle modification\n",
    "    \n",
    "    return tweet\n"
   ]
  },
  {
   "cell_type": "code",
   "execution_count": 10,
   "id": "25937642",
   "metadata": {},
   "outputs": [
    {
     "name": "stdout",
     "output_type": "stream",
     "text": [
      "[\"'seckerry the value of the  and  is measured not in dollars but in terms of our deepest american values'\", \"' i fear so'\", \"'watch video highlights of the wwc13 final between australia and west indies at '\", \"'rt  at nitro circus at albertpark  theymakeitlooksoeasy   cantwaitforausgp'\", \"' always a good thing thanks for the feedback '\", \"'dr rajan fiscal consolidation will create more space for monetary policies to act'\", \"fact more than 800000 defense employees will be forced to take unpaid leave if congress doesn't stop impending spending cuts jobsnotcuts\", \"'1st test over 39 0 runs 1 wkt m wade 0 m clarke 24 aus 1014 indvaus  '\", \"some of africa's top teams will try and take a step closer to the wt20 this week check out qualifying fixtures \", \"'can you beat the tweet of  and zebras stopped play for the most unusual reason for a club cricket match being halted'\", \"'queensland finished their innings well thanks to a great knock from jason floros 47 qld 9146  ryobiodc'\", \" thanks won't respond to their rubbish\", \"'president obama nominates mary jo white to run the sec  president obama announced today that he wants mary jo w '\", \"'english translation opening statement by pm abe at the press conference on december 26 2012n '\", \"' has campaigned for years on his commitment to the military but his record doesnu2019t match the rhetoric '\", \"'rt  gb fed cup team give their support for help harry help others   wearing their special hhho bracelet htt '\", \"' yes i am'\", \"'railway budget for the first time 347 ongoing projects identified as priority projects with the committed funding'\", \"'buy your ausgp general admission tickets before march 1 for early bird prices f1 cantwaitforausgp '\", \"'gbfedcup robson back on court following treatment for a left shoulder injury'\"]\n"
     ]
    }
   ],
   "source": [
    "tweets=train_df.TweetText\n",
    "cleaned_tweets=[clean_process(tweet) for tweet in tweets]\n",
    "print(cleaned_tweets[:20])"
   ]
  },
  {
   "cell_type": "markdown",
   "id": "19216037",
   "metadata": {},
   "source": [
    "## Procedons maintenant au traitement des stopwords(les mots vides en terme de sens )"
   ]
  },
  {
   "cell_type": "code",
   "execution_count": 11,
   "id": "3c508e06",
   "metadata": {},
   "outputs": [],
   "source": [
    "# fonction pour supprimer les stopwords\n",
    "def remove_stopwords(mots):\n",
    "    # Récupérer la liste des stopwords en anglais\n",
    "    stop_words = set(stopwords.words('english'))\n",
    "    \n",
    "    # Supprimer les stopwords de la liste des mots\n",
    "    filtered_words = [word for word in mots if word.lower() not in stop_words]\n",
    "    \n",
    "    # Reconstruire le tweet sans les stopwords\n",
    "    filtered_tweet = ' '.join(filtered_words)\n",
    "    \n",
    "    return filtered_tweet\n"
   ]
  },
  {
   "cell_type": "markdown",
   "id": "ccaa8da7",
   "metadata": {},
   "source": [
    "## Phase de  tokenisation "
   ]
  },
  {
   "cell_type": "code",
   "execution_count": 12,
   "id": "0adfae44",
   "metadata": {},
   "outputs": [],
   "source": [
    "def tokenize_process(text):\n",
    "    mots=nltk.word_tokenize(text) \n",
    "    return mots"
   ]
  },
  {
   "cell_type": "markdown",
   "id": "03a8ccd7",
   "metadata": {},
   "source": [
    "## **On va combiner toutes les fonctions de prétraitements dans une seules fonction pour faciliter le déploiement**"
   ]
  },
  {
   "cell_type": "code",
   "execution_count": 13,
   "id": "84482a65",
   "metadata": {},
   "outputs": [],
   "source": [
    "def preproced_tweet(tweet):\n",
    "    cleaned_tweet=clean_process(tweet)\n",
    "    mots=tokenize_process(cleaned_tweet)\n",
    "    tweet_cleaned=remove_stopwords(mots)\n",
    "   \n",
    "    return tweet_cleaned"
   ]
  },
  {
   "cell_type": "code",
   "execution_count": 24,
   "id": "fb878278",
   "metadata": {},
   "outputs": [],
   "source": [
    "train_df[\"Cleaned_tweet\"]=train_df['TweetText'].apply(preproced_tweet)"
   ]
  },
  {
   "cell_type": "code",
   "execution_count": 25,
   "id": "0bd98f40",
   "metadata": {},
   "outputs": [
    {
     "data": {
      "text/html": [
       "<div>\n",
       "<style scoped>\n",
       "    .dataframe tbody tr th:only-of-type {\n",
       "        vertical-align: middle;\n",
       "    }\n",
       "\n",
       "    .dataframe tbody tr th {\n",
       "        vertical-align: top;\n",
       "    }\n",
       "\n",
       "    .dataframe thead th {\n",
       "        text-align: right;\n",
       "    }\n",
       "</style>\n",
       "<table border=\"1\" class=\"dataframe\">\n",
       "  <thead>\n",
       "    <tr style=\"text-align: right;\">\n",
       "      <th></th>\n",
       "      <th>TweetId</th>\n",
       "      <th>Label</th>\n",
       "      <th>TweetText</th>\n",
       "      <th>Cleaned_tweet</th>\n",
       "    </tr>\n",
       "  </thead>\n",
       "  <tbody>\n",
       "    <tr>\n",
       "      <th>0</th>\n",
       "      <td>304271250237304833</td>\n",
       "      <td>Politics</td>\n",
       "      <td>'#SecKerry: The value of the @StateDept and @U...</td>\n",
       "      <td>'seckerry value measured dollars terms deepest...</td>\n",
       "    </tr>\n",
       "    <tr>\n",
       "      <th>1</th>\n",
       "      <td>304834304222064640</td>\n",
       "      <td>Politics</td>\n",
       "      <td>'@rraina1481 I fear so'</td>\n",
       "      <td>' fear '</td>\n",
       "    </tr>\n",
       "    <tr>\n",
       "      <th>2</th>\n",
       "      <td>303568995880144898</td>\n",
       "      <td>Sports</td>\n",
       "      <td>'Watch video highlights of the #wwc13 final be...</td>\n",
       "      <td>'watch video highlights wwc13 final australia ...</td>\n",
       "    </tr>\n",
       "    <tr>\n",
       "      <th>3</th>\n",
       "      <td>304366580664528896</td>\n",
       "      <td>Sports</td>\n",
       "      <td>'RT @chelscanlan: At Nitro Circus at #AlbertPa...</td>\n",
       "      <td>'rt nitro circus albertpark theymakeitlooksoea...</td>\n",
       "    </tr>\n",
       "    <tr>\n",
       "      <th>4</th>\n",
       "      <td>296770931098009601</td>\n",
       "      <td>Sports</td>\n",
       "      <td>'@cricketfox Always a good thing. Thanks for t...</td>\n",
       "      <td>' always good thing thanks feedback '</td>\n",
       "    </tr>\n",
       "  </tbody>\n",
       "</table>\n",
       "</div>"
      ],
      "text/plain": [
       "              TweetId     Label  \\\n",
       "0  304271250237304833  Politics   \n",
       "1  304834304222064640  Politics   \n",
       "2  303568995880144898    Sports   \n",
       "3  304366580664528896    Sports   \n",
       "4  296770931098009601    Sports   \n",
       "\n",
       "                                           TweetText  \\\n",
       "0  '#SecKerry: The value of the @StateDept and @U...   \n",
       "1                            '@rraina1481 I fear so'   \n",
       "2  'Watch video highlights of the #wwc13 final be...   \n",
       "3  'RT @chelscanlan: At Nitro Circus at #AlbertPa...   \n",
       "4  '@cricketfox Always a good thing. Thanks for t...   \n",
       "\n",
       "                                       Cleaned_tweet  \n",
       "0  'seckerry value measured dollars terms deepest...  \n",
       "1                                           ' fear '  \n",
       "2  'watch video highlights wwc13 final australia ...  \n",
       "3  'rt nitro circus albertpark theymakeitlooksoea...  \n",
       "4              ' always good thing thanks feedback '  "
      ]
     },
     "execution_count": 25,
     "metadata": {},
     "output_type": "execute_result"
    }
   ],
   "source": [
    "train_df.head()"
   ]
  },
  {
   "cell_type": "markdown",
   "id": "0fce84ac",
   "metadata": {},
   "source": [
    "## Representation des données"
   ]
  },
  {
   "cell_type": "markdown",
   "id": "d6d8eb41",
   "metadata": {},
   "source": [
    "### Extraction des varaibles explicatives et expliquées"
   ]
  },
  {
   "cell_type": "code",
   "execution_count": 16,
   "id": "d9ae3001",
   "metadata": {},
   "outputs": [
    {
     "data": {
      "text/plain": [
       "(5220,)"
      ]
     },
     "execution_count": 16,
     "metadata": {},
     "output_type": "execute_result"
    }
   ],
   "source": [
    "# L'id d'un tweet ne porte aucune information donc on va l'ignorer pour le modèle\n",
    "\n",
    "X=train_df['Cleaned_tweet']\n",
    "y=train_df['Label']\n",
    "\n",
    "X_train,X_val,y_train,y_val=train_test_split(X,y,test_size=0.2,random_state=42)\n",
    "\n",
    "X_train.shape"
   ]
  },
  {
   "cell_type": "markdown",
   "id": "1e3af826",
   "metadata": {},
   "source": [
    "## Extraction feature"
   ]
  },
  {
   "cell_type": "code",
   "execution_count": 26,
   "id": "fb7655e2",
   "metadata": {},
   "outputs": [],
   "source": [
    "\n",
    "# Vectorize the text using TF-IDF\n",
    "vect = TfidfVectorizer(max_features=5000)\n",
    "X_train_tfidf=vect.fit_transform(X_train)\n",
    "X_val_tfidf=vect.transform(X_val)\n"
   ]
  },
  {
   "cell_type": "markdown",
   "id": "24dd2c99",
   "metadata": {},
   "source": [
    "# Phase de construction de modèle"
   ]
  },
  {
   "cell_type": "markdown",
   "id": "7fc90f3a",
   "metadata": {},
   "source": [
    "## Je vais utiliser l'algorithme SVM(Support Vector Modèle) Pour la construction du modèle"
   ]
  },
  {
   "cell_type": "code",
   "execution_count": 27,
   "id": "c8a187ae",
   "metadata": {},
   "outputs": [
    {
     "name": "stdout",
     "output_type": "stream",
     "text": [
      "Accuracy: 0.9340996168582375\n",
      "              precision    recall  f1-score   support\n",
      "\n",
      "    Politics       0.94      0.93      0.93       638\n",
      "      Sports       0.93      0.94      0.94       667\n",
      "\n",
      "    accuracy                           0.93      1305\n",
      "   macro avg       0.93      0.93      0.93      1305\n",
      "weighted avg       0.93      0.93      0.93      1305\n",
      "\n"
     ]
    }
   ],
   "source": [
    "\n",
    "clf =SVC(C=1,kernel='linear', random_state=42,gamma='auto')\n",
    "clf.fit(X_train_tfidf, y_train)\n",
    "predictions=clf.predict(X_val_tfidf)\n",
    "\n",
    "svm_accuracy=accuracy_score(y_val,predictions)\n",
    "svm_report=classification_report(y_val,predictions)\n",
    "print(\"Accuracy:\" ,svm_accuracy)\n",
    "print(svm_report)\n"
   ]
  },
  {
   "cell_type": "markdown",
   "id": "ef9b4e6a",
   "metadata": {},
   "source": [
    "## Pour le modele turning on peut varier la valeur de kernel pour voir la forme de hyperplan qui correspond au mieux et la valeur de C Ici la combinaison des valeurs approprié c'est kernel='linear' et C=1 par defaut"
   ]
  },
  {
   "cell_type": "markdown",
   "id": "d1db1e20",
   "metadata": {},
   "source": [
    "# Test"
   ]
  },
  {
   "cell_type": "code",
   "execution_count": 19,
   "id": "e7a4e1e0",
   "metadata": {},
   "outputs": [
    {
     "data": {
      "text/html": [
       "<div>\n",
       "<style scoped>\n",
       "    .dataframe tbody tr th:only-of-type {\n",
       "        vertical-align: middle;\n",
       "    }\n",
       "\n",
       "    .dataframe tbody tr th {\n",
       "        vertical-align: top;\n",
       "    }\n",
       "\n",
       "    .dataframe thead th {\n",
       "        text-align: right;\n",
       "    }\n",
       "</style>\n",
       "<table border=\"1\" class=\"dataframe\">\n",
       "  <thead>\n",
       "    <tr style=\"text-align: right;\">\n",
       "      <th></th>\n",
       "      <th>TweetId</th>\n",
       "      <th>TweetText</th>\n",
       "    </tr>\n",
       "  </thead>\n",
       "  <tbody>\n",
       "    <tr>\n",
       "      <th>0</th>\n",
       "      <td>306486520121012224</td>\n",
       "      <td>'28. The home side threaten again through Maso...</td>\n",
       "    </tr>\n",
       "    <tr>\n",
       "      <th>1</th>\n",
       "      <td>286353402605228032</td>\n",
       "      <td>'@mrbrown @aulia Thx for asking. See http://t....</td>\n",
       "    </tr>\n",
       "    <tr>\n",
       "      <th>2</th>\n",
       "      <td>289531046037438464</td>\n",
       "      <td>'@Sochi2014 construction along the shores of t...</td>\n",
       "    </tr>\n",
       "    <tr>\n",
       "      <th>3</th>\n",
       "      <td>306451661403062273</td>\n",
       "      <td>'#SecKerry\\u2019s remarks after meeting with F...</td>\n",
       "    </tr>\n",
       "    <tr>\n",
       "      <th>4</th>\n",
       "      <td>297941800658812928</td>\n",
       "      <td>'The #IPLauction has begun. Ricky Ponting is t...</td>\n",
       "    </tr>\n",
       "  </tbody>\n",
       "</table>\n",
       "</div>"
      ],
      "text/plain": [
       "              TweetId                                          TweetText\n",
       "0  306486520121012224  '28. The home side threaten again through Maso...\n",
       "1  286353402605228032  '@mrbrown @aulia Thx for asking. See http://t....\n",
       "2  289531046037438464  '@Sochi2014 construction along the shores of t...\n",
       "3  306451661403062273  '#SecKerry\\u2019s remarks after meeting with F...\n",
       "4  297941800658812928  'The #IPLauction has begun. Ricky Ponting is t..."
      ]
     },
     "execution_count": 19,
     "metadata": {},
     "output_type": "execute_result"
    }
   ],
   "source": [
    "test_df.head()"
   ]
  },
  {
   "cell_type": "code",
   "execution_count": 20,
   "id": "1aec0c76",
   "metadata": {},
   "outputs": [],
   "source": [
    "test_df[\"Cleaned_tweet\"]=test_df['TweetText'].apply(preproced_tweet)"
   ]
  },
  {
   "cell_type": "code",
   "execution_count": 21,
   "id": "134c3c68",
   "metadata": {},
   "outputs": [
    {
     "name": "stdout",
     "output_type": "stream",
     "text": [
      "['Sports' 'Sports' 'Politics' ... 'Sports' 'Politics' 'Sports']\n"
     ]
    },
    {
     "data": {
      "text/html": [
       "<div>\n",
       "<style scoped>\n",
       "    .dataframe tbody tr th:only-of-type {\n",
       "        vertical-align: middle;\n",
       "    }\n",
       "\n",
       "    .dataframe tbody tr th {\n",
       "        vertical-align: top;\n",
       "    }\n",
       "\n",
       "    .dataframe thead th {\n",
       "        text-align: right;\n",
       "    }\n",
       "</style>\n",
       "<table border=\"1\" class=\"dataframe\">\n",
       "  <thead>\n",
       "    <tr style=\"text-align: right;\">\n",
       "      <th></th>\n",
       "      <th>TweetId</th>\n",
       "      <th>TweetText</th>\n",
       "      <th>Cleaned_tweet</th>\n",
       "      <th>Label</th>\n",
       "    </tr>\n",
       "  </thead>\n",
       "  <tbody>\n",
       "    <tr>\n",
       "      <th>0</th>\n",
       "      <td>306486520121012224</td>\n",
       "      <td>'28. The home side threaten again through Maso...</td>\n",
       "      <td>'28 home side threaten mason bennett gets end ...</td>\n",
       "      <td>Sports</td>\n",
       "    </tr>\n",
       "    <tr>\n",
       "      <th>1</th>\n",
       "      <td>286353402605228032</td>\n",
       "      <td>'@mrbrown @aulia Thx for asking. See http://t....</td>\n",
       "      <td>' thx asking see derives series abbreviations ...</td>\n",
       "      <td>Sports</td>\n",
       "    </tr>\n",
       "    <tr>\n",
       "      <th>2</th>\n",
       "      <td>289531046037438464</td>\n",
       "      <td>'@Sochi2014 construction along the shores of t...</td>\n",
       "      <td>' construction along shores black sea '</td>\n",
       "      <td>Politics</td>\n",
       "    </tr>\n",
       "    <tr>\n",
       "      <th>3</th>\n",
       "      <td>306451661403062273</td>\n",
       "      <td>'#SecKerry\\u2019s remarks after meeting with F...</td>\n",
       "      <td>'seckerryu2019s remarks meeting foreign minist...</td>\n",
       "      <td>Politics</td>\n",
       "    </tr>\n",
       "    <tr>\n",
       "      <th>4</th>\n",
       "      <td>297941800658812928</td>\n",
       "      <td>'The #IPLauction has begun. Ricky Ponting is t...</td>\n",
       "      <td>'the iplauction begun ricky ponting first play...</td>\n",
       "      <td>Sports</td>\n",
       "    </tr>\n",
       "  </tbody>\n",
       "</table>\n",
       "</div>"
      ],
      "text/plain": [
       "              TweetId                                          TweetText  \\\n",
       "0  306486520121012224  '28. The home side threaten again through Maso...   \n",
       "1  286353402605228032  '@mrbrown @aulia Thx for asking. See http://t....   \n",
       "2  289531046037438464  '@Sochi2014 construction along the shores of t...   \n",
       "3  306451661403062273  '#SecKerry\\u2019s remarks after meeting with F...   \n",
       "4  297941800658812928  'The #IPLauction has begun. Ricky Ponting is t...   \n",
       "\n",
       "                                       Cleaned_tweet     Label  \n",
       "0  '28 home side threaten mason bennett gets end ...    Sports  \n",
       "1  ' thx asking see derives series abbreviations ...    Sports  \n",
       "2            ' construction along shores black sea '  Politics  \n",
       "3  'seckerryu2019s remarks meeting foreign minist...  Politics  \n",
       "4  'the iplauction begun ricky ponting first play...    Sports  "
      ]
     },
     "execution_count": 21,
     "metadata": {},
     "output_type": "execute_result"
    }
   ],
   "source": [
    "X_test_tfidf=vect.transform(test_df['Cleaned_tweet'])\n",
    "submissions=clf.predict(X_test_tfidf)\n",
    "\n",
    "print(submissions)\n",
    "test_df['Label']=submissions\n",
    "test_df.head()"
   ]
  },
  {
   "cell_type": "markdown",
   "id": "718857c2",
   "metadata": {},
   "source": [
    "## Model performance"
   ]
  },
  {
   "cell_type": "code",
   "execution_count": 28,
   "id": "b57e0d88",
   "metadata": {},
   "outputs": [
    {
     "name": "stdout",
     "output_type": "stream",
     "text": [
      "Accuracy: 0.9348659003831418\n",
      "Temps de prétraitement: 2.6816458702087402\n",
      " Temps d'entrainement: 1.7254109382629395\n",
      "Tems de prédiction: 0.29900431632995605\n",
      "              precision    recall  f1-score   support\n",
      "\n",
      "    Politics       0.94      0.93      0.93       638\n",
      "      Sports       0.93      0.94      0.94       667\n",
      "\n",
      "    accuracy                           0.93      1305\n",
      "   macro avg       0.93      0.93      0.93      1305\n",
      "weighted avg       0.93      0.93      0.93      1305\n",
      "\n"
     ]
    }
   ],
   "source": [
    "#temps de prétraitement\n",
    "\n",
    "start_preproced_time=time.time()\n",
    "train_df[\"Cleaned_tweet\"]=train_df['TweetText'].apply(preproced_tweet)\n",
    "vect = TfidfVectorizer(max_features=5220)\n",
    "X_train_tfidf=vect.fit_transform(X_train)\n",
    "X_val_tfidf=vect.transform(X_val)\n",
    "\n",
    "end_preproced_time=time.time()\n",
    "pre_time=end_preproced_time-start_preproced_time\n",
    "\n",
    "#temps d'entrainement\n",
    "\n",
    "start_train_time=time.time()\n",
    "\n",
    "clf =SVC(C=1,kernel='linear', random_state=42,gamma='auto')\n",
    "clf.fit(X_train_tfidf, y_train)\n",
    "\n",
    "end_train_time=time.time()\n",
    "\n",
    "train_time=end_train_time-start_train_time\n",
    "\n",
    "#temps de prédiction\n",
    "\n",
    "start_test_time=time.time()\n",
    "\n",
    "predictions=clf.predict(X_val_tfidf)\n",
    "\n",
    "end_test_time=time.time()\n",
    "\n",
    "test_time=end_test_time-start_test_time\n",
    "#accuracy \n",
    "svm_accuracy=accuracy_score(y_val,predictions)\n",
    "svm_report=classification_report(y_val,predictions)\n",
    "\n",
    "print(\"Accuracy:\" ,svm_accuracy)\n",
    "print(\"Temps de prétraitement:\" ,pre_time)\n",
    "print(\" Temps d'entrainement:\" ,train_time)\n",
    "print(\"Tems de prédiction:\" ,test_time)\n",
    "print(svm_report)\n"
   ]
  },
  {
   "cell_type": "code",
   "execution_count": 30,
   "id": "5f56e218",
   "metadata": {},
   "outputs": [
    {
     "data": {
      "text/html": [
       "<div>\n",
       "<style scoped>\n",
       "    .dataframe tbody tr th:only-of-type {\n",
       "        vertical-align: middle;\n",
       "    }\n",
       "\n",
       "    .dataframe tbody tr th {\n",
       "        vertical-align: top;\n",
       "    }\n",
       "\n",
       "    .dataframe thead th {\n",
       "        text-align: right;\n",
       "    }\n",
       "</style>\n",
       "<table border=\"1\" class=\"dataframe\">\n",
       "  <thead>\n",
       "    <tr style=\"text-align: right;\">\n",
       "      <th></th>\n",
       "      <th>TweetId</th>\n",
       "      <th>Label</th>\n",
       "    </tr>\n",
       "  </thead>\n",
       "  <tbody>\n",
       "    <tr>\n",
       "      <th>0</th>\n",
       "      <td>306486520121012224</td>\n",
       "      <td>Sports</td>\n",
       "    </tr>\n",
       "    <tr>\n",
       "      <th>1</th>\n",
       "      <td>286353402605228032</td>\n",
       "      <td>Sports</td>\n",
       "    </tr>\n",
       "    <tr>\n",
       "      <th>2</th>\n",
       "      <td>289531046037438464</td>\n",
       "      <td>Politics</td>\n",
       "    </tr>\n",
       "    <tr>\n",
       "      <th>3</th>\n",
       "      <td>306451661403062273</td>\n",
       "      <td>Politics</td>\n",
       "    </tr>\n",
       "    <tr>\n",
       "      <th>4</th>\n",
       "      <td>297941800658812928</td>\n",
       "      <td>Sports</td>\n",
       "    </tr>\n",
       "  </tbody>\n",
       "</table>\n",
       "</div>"
      ],
      "text/plain": [
       "              TweetId     Label\n",
       "0  306486520121012224    Sports\n",
       "1  286353402605228032    Sports\n",
       "2  289531046037438464  Politics\n",
       "3  306451661403062273  Politics\n",
       "4  297941800658812928    Sports"
      ]
     },
     "execution_count": 30,
     "metadata": {},
     "output_type": "execute_result"
    }
   ],
   "source": [
    "sub=test_df[['TweetId','Label']]\n",
    "sub.head()"
   ]
  },
  {
   "cell_type": "code",
   "execution_count": 33,
   "id": "a80f588d",
   "metadata": {},
   "outputs": [],
   "source": [
    "sub.to_csv(\"submissions.csv\",index=False)"
   ]
  },
  {
   "cell_type": "code",
   "execution_count": null,
   "id": "2aa92c57",
   "metadata": {},
   "outputs": [],
   "source": []
  }
 ],
 "metadata": {
  "kernelspec": {
   "display_name": "Python 3 (ipykernel)",
   "language": "python",
   "name": "python3"
  },
  "language_info": {
   "codemirror_mode": {
    "name": "ipython",
    "version": 3
   },
   "file_extension": ".py",
   "mimetype": "text/x-python",
   "name": "python",
   "nbconvert_exporter": "python",
   "pygments_lexer": "ipython3",
   "version": "3.10.12"
  }
 },
 "nbformat": 4,
 "nbformat_minor": 5
}
